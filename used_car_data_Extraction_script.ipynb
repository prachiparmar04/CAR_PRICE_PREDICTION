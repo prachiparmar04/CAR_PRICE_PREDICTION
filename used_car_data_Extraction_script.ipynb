{
 "cells": [
  {
   "cell_type": "code",
   "execution_count": 223,
   "metadata": {},
   "outputs": [],
   "source": [
    "import pandas as pd\n",
    "import time\n",
    "\n",
    "from selenium import webdriver\n",
    "import requests\n",
    "import selenium \n",
    "\n",
    "import numpy as np\n",
    "import warnings\n",
    "warnings.filterwarnings('ignore')\n",
    "from selenium.common.exceptions import NoSuchElementException\n",
    "from selenium.common.exceptions import TimeoutException"
   ]
  },
  {
   "cell_type": "code",
   "execution_count": 306,
   "metadata": {},
   "outputs": [],
   "source": [
    "#IMPORTING chrome driver exe\n",
    "\n",
    "\n",
    "driver = webdriver.Chrome(\"Downloads/chromedriver_win32 (1)/chromedriver.exe\")"
   ]
  },
  {
   "cell_type": "code",
   "execution_count": 225,
   "metadata": {},
   "outputs": [],
   "source": [
    "driver.get('https://www.cars24.com/')"
   ]
  },
  {
   "cell_type": "code",
   "execution_count": 173,
   "metadata": {},
   "outputs": [],
   "source": [
    "#driver.find_element_by_xpath('/html/body/div[1]/div[1]/div[2]/div/div/div[2]/ul/li[2]/a').click()"
   ]
  },
  {
   "cell_type": "code",
   "execution_count": 231,
   "metadata": {},
   "outputs": [],
   "source": [
    "\n",
    "#MUMBAI\n",
    "links2 = driver.find_elements_by_xpath(\"/html/body/div[1]/div[2]/div/div[4]/div[1]/div/div/a[1]\")\n"
   ]
  },
  {
   "cell_type": "code",
   "execution_count": 232,
   "metadata": {},
   "outputs": [
    {
     "name": "stdout",
     "output_type": "stream",
     "text": [
      "2100\n"
     ]
    }
   ],
   "source": [
    "print(len(links2))"
   ]
  },
  {
   "cell_type": "code",
   "execution_count": 233,
   "metadata": {},
   "outputs": [],
   "source": [
    "urls = []"
   ]
  },
  {
   "cell_type": "code",
   "execution_count": 234,
   "metadata": {},
   "outputs": [
    {
     "name": "stderr",
     "output_type": "stream",
     "text": [
      "100%|██████████████████████████████████████████████████████████████████████████████| 2100/2100 [00:28<00:00, 73.19it/s]\n"
     ]
    },
    {
     "data": {
      "text/plain": [
       "2100"
      ]
     },
     "execution_count": 234,
     "metadata": {},
     "output_type": "execute_result"
    }
   ],
   "source": [
    "\n",
    "for i in tqdm(links2):\n",
    "    urls.append(i.get_attribute('href'))\n",
    "\n",
    "len(urls)"
   ]
  },
  {
   "cell_type": "code",
   "execution_count": 235,
   "metadata": {},
   "outputs": [],
   "source": [
    "driver.find_element_by_xpath('/html/body/div[1]/div[1]/div[2]/div/div/div[1]/p/label').click()"
   ]
  },
  {
   "cell_type": "code",
   "execution_count": 237,
   "metadata": {},
   "outputs": [],
   "source": [
    "#DELHI\n",
    "\n",
    "driver.find_element_by_xpath('/html/body/div[1]/div[6]/div/div/div/div[2]/ul/li[1]/span').click()"
   ]
  },
  {
   "cell_type": "code",
   "execution_count": 240,
   "metadata": {},
   "outputs": [
    {
     "data": {
      "text/plain": [
       "1460"
      ]
     },
     "execution_count": 240,
     "metadata": {},
     "output_type": "execute_result"
    }
   ],
   "source": [
    "\n",
    "links1 = driver.find_elements_by_xpath(\"/html/body/div[1]/div[2]/div/div[4]/div[1]/div/div/a[1]\")\n",
    "len(links1)"
   ]
  },
  {
   "cell_type": "code",
   "execution_count": 241,
   "metadata": {},
   "outputs": [
    {
     "name": "stderr",
     "output_type": "stream",
     "text": [
      "100%|██████████████████████████████████████████████████████████████████████████████| 1460/1460 [00:20<00:00, 71.41it/s]\n"
     ]
    }
   ],
   "source": [
    "\n",
    "for i in tqdm(links1):\n",
    "    urls.append(i.get_attribute('href'))"
   ]
  },
  {
   "cell_type": "code",
   "execution_count": 242,
   "metadata": {},
   "outputs": [
    {
     "data": {
      "text/plain": [
       "3560"
      ]
     },
     "execution_count": 242,
     "metadata": {},
     "output_type": "execute_result"
    }
   ],
   "source": [
    "len(urls)"
   ]
  },
  {
   "cell_type": "code",
   "execution_count": 243,
   "metadata": {},
   "outputs": [],
   "source": [
    "driver.find_element_by_xpath('/html/body/div[1]/div[1]/div[2]/div/div/div[1]/p/label').click()"
   ]
  },
  {
   "cell_type": "code",
   "execution_count": 244,
   "metadata": {},
   "outputs": [],
   "source": [
    "#BANGALORE\n",
    "driver.find_element_by_xpath('/html/body/div[1]/div[6]/div/div/div/div[2]/ul/li[6]/span').click()"
   ]
  },
  {
   "cell_type": "code",
   "execution_count": 246,
   "metadata": {},
   "outputs": [
    {
     "data": {
      "text/plain": [
       "661"
      ]
     },
     "execution_count": 246,
     "metadata": {},
     "output_type": "execute_result"
    }
   ],
   "source": [
    "links3 = driver.find_elements_by_xpath(\"/html/body/div[1]/div[2]/div/div[4]/div[1]/div/div/a[1]\")\n",
    "len(links3)"
   ]
  },
  {
   "cell_type": "code",
   "execution_count": 247,
   "metadata": {},
   "outputs": [
    {
     "name": "stderr",
     "output_type": "stream",
     "text": [
      "100%|████████████████████████████████████████████████████████████████████████████████| 661/661 [00:08<00:00, 79.54it/s]\n"
     ]
    }
   ],
   "source": [
    "\n",
    "for i in tqdm(links3):\n",
    "    urls.append(i.get_attribute('href'))"
   ]
  },
  {
   "cell_type": "code",
   "execution_count": 248,
   "metadata": {},
   "outputs": [
    {
     "data": {
      "text/plain": [
       "4221"
      ]
     },
     "execution_count": 248,
     "metadata": {},
     "output_type": "execute_result"
    }
   ],
   "source": [
    "len(urls)"
   ]
  },
  {
   "cell_type": "code",
   "execution_count": 250,
   "metadata": {},
   "outputs": [],
   "source": [
    "driver.find_element_by_xpath('/html/body/div[1]/div[1]/div[2]/div/div/div[1]/p/label').click()\n",
    "#chennai\n",
    "\n",
    "\n",
    "\n"
   ]
  },
  {
   "cell_type": "code",
   "execution_count": 251,
   "metadata": {},
   "outputs": [],
   "source": [
    "driver.find_element_by_xpath('/html/body/div[1]/div[6]/div/div/div/div[2]/ul/li[8]/span').click()\n",
    "\n"
   ]
  },
  {
   "cell_type": "code",
   "execution_count": 252,
   "metadata": {},
   "outputs": [
    {
     "data": {
      "text/plain": [
       "554"
      ]
     },
     "execution_count": 252,
     "metadata": {},
     "output_type": "execute_result"
    }
   ],
   "source": [
    "links4 = driver.find_elements_by_xpath(\"/html/body/div[1]/div[2]/div/div[4]/div[1]/div/div/a[1]\")\n",
    "len(links4)"
   ]
  },
  {
   "cell_type": "code",
   "execution_count": 253,
   "metadata": {},
   "outputs": [
    {
     "name": "stderr",
     "output_type": "stream",
     "text": [
      "100%|████████████████████████████████████████████████████████████████████████████████| 554/554 [00:06<00:00, 81.11it/s]\n"
     ]
    }
   ],
   "source": [
    "for i in tqdm(links4):\n",
    "    urls.append(i.get_attribute('href'))"
   ]
  },
  {
   "cell_type": "code",
   "execution_count": 254,
   "metadata": {},
   "outputs": [],
   "source": [
    "driver.find_element_by_xpath('/html/body/div[1]/div[1]/div[2]/div/div/div[1]/p/label').click()\n",
    "#HYD\n",
    "\n",
    "\n",
    "\n",
    "\n"
   ]
  },
  {
   "cell_type": "code",
   "execution_count": 255,
   "metadata": {},
   "outputs": [],
   "source": [
    "driver.find_element_by_xpath('/html/body/div[1]/div[6]/div/div/div/div[2]/ul/li[7]/span').click()\n"
   ]
  },
  {
   "cell_type": "code",
   "execution_count": 256,
   "metadata": {},
   "outputs": [
    {
     "data": {
      "text/plain": [
       "308"
      ]
     },
     "execution_count": 256,
     "metadata": {},
     "output_type": "execute_result"
    }
   ],
   "source": [
    "links5 = driver.find_elements_by_xpath(\"/html/body/div[1]/div[2]/div/div[4]/div[1]/div/div/a[1]\")\n",
    "len(links5)"
   ]
  },
  {
   "cell_type": "code",
   "execution_count": 257,
   "metadata": {},
   "outputs": [
    {
     "name": "stderr",
     "output_type": "stream",
     "text": [
      "100%|████████████████████████████████████████████████████████████████████████████████| 308/308 [00:04<00:00, 74.27it/s]\n"
     ]
    }
   ],
   "source": [
    "for i in tqdm(links5):\n",
    "    urls.append(i.get_attribute('href'))"
   ]
  },
  {
   "cell_type": "code",
   "execution_count": 258,
   "metadata": {},
   "outputs": [
    {
     "data": {
      "text/plain": [
       "5083"
      ]
     },
     "execution_count": 258,
     "metadata": {},
     "output_type": "execute_result"
    }
   ],
   "source": [
    "len(urls)"
   ]
  },
  {
   "cell_type": "code",
   "execution_count": 259,
   "metadata": {},
   "outputs": [],
   "source": [
    "driver.find_element_by_xpath('/html/body/div[1]/div[1]/div[2]/div/div/div[1]/p/label').click()\n",
    "#Ahemedabad\n",
    "\n",
    "\n",
    "\n",
    "\n"
   ]
  },
  {
   "cell_type": "code",
   "execution_count": 260,
   "metadata": {},
   "outputs": [],
   "source": [
    "driver.find_element_by_xpath('/html/body/div[1]/div[6]/div/div/div/div[2]/ul/li[9]/span').click()\n"
   ]
  },
  {
   "cell_type": "code",
   "execution_count": 261,
   "metadata": {},
   "outputs": [
    {
     "data": {
      "text/plain": [
       "295"
      ]
     },
     "execution_count": 261,
     "metadata": {},
     "output_type": "execute_result"
    }
   ],
   "source": [
    "links6 = driver.find_elements_by_xpath(\"/html/body/div[1]/div[2]/div/div[4]/div[1]/div/div/a[1]\")\n",
    "len(links6)"
   ]
  },
  {
   "cell_type": "code",
   "execution_count": 262,
   "metadata": {},
   "outputs": [
    {
     "name": "stderr",
     "output_type": "stream",
     "text": [
      "100%|████████████████████████████████████████████████████████████████████████████████| 295/295 [00:03<00:00, 75.93it/s]\n"
     ]
    }
   ],
   "source": [
    "for i in tqdm(links6):\n",
    "    urls.append(i.get_attribute('href'))"
   ]
  },
  {
   "cell_type": "code",
   "execution_count": 265,
   "metadata": {},
   "outputs": [
    {
     "data": {
      "text/plain": [
       "5378"
      ]
     },
     "execution_count": 265,
     "metadata": {},
     "output_type": "execute_result"
    }
   ],
   "source": [
    "len(urls)"
   ]
  },
  {
   "cell_type": "code",
   "execution_count": 318,
   "metadata": {},
   "outputs": [],
   "source": [
    "cars = []\n",
    "price = []\n",
    "owner = []\n",
    "transmission = []\n",
    "history = []\n",
    "kms_driven = []\n",
    "fuel_type = []\n",
    "year_purchase = []\n",
    "insurance = []\n",
    "insurance_type = []"
   ]
  },
  {
   "cell_type": "code",
   "execution_count": 319,
   "metadata": {},
   "outputs": [
    {
     "name": "stdout",
     "output_type": "stream",
     "text": [
      "2018 Maruti Celerio ZXI MANUAL\n"
     ]
    }
   ],
   "source": [
    "try:\n",
    "    product_name = driver.find_element_by_xpath('/html/body/div[1]/div[2]/div/div/div/div[1]/div[2]/h2')\n",
    "    print(product_name.text)\n",
    "except NoSuchElementException:\n",
    "    print(np.NAN)"
   ]
  },
  {
   "cell_type": "code",
   "execution_count": 321,
   "metadata": {},
   "outputs": [],
   "source": [
    "for i in urls:\n",
    "    driver.get(i)\n",
    "    \n",
    "    \n",
    "    try:\n",
    "        product_name = driver.find_element_by_xpath('/html/body/div[1]/div[2]/div/div/div/div[1]/div[2]/h2')\n",
    "        cars.append(product_name.text)\n",
    "    except NoSuchElementException:\n",
    "        cars.append(np.NAN)\n",
    "    \n",
    "    try:\n",
    "        temp = {}\n",
    "        for i in range(1,9):\n",
    "            labels = driver.find_element_by_xpath('/html/body/div[1]/div[3]/div[3]/div/div/div[1]/div/ul/li['+str(i)+']/label')          \n",
    "            values = driver.find_element_by_xpath('/html/body/div[1]/div[3]/div[3]/div/div/div[1]/div/ul/li['+str(i)+']/strong')\n",
    "            temp[labels.text]= values.text\n",
    "        keys = list(temp.keys())\n",
    "        \n",
    "        if 'History' in keys:\n",
    "            history.append(temp['History'])\n",
    "        else:\n",
    "            history.append(np.NAN)\n",
    "            \n",
    "        if 'Owner' in keys:\n",
    "            owner.append(temp['Owner'])\n",
    "        else:\n",
    "            owner.append(np.NAN)\n",
    "\n",
    "            \n",
    "        if 'Kilometers Driven' in keys:\n",
    "            kms_driven.append(temp['Kilometers Driven'])\n",
    "        else:\n",
    "            kms_driven.append(np.NAN)\n",
    "            \n",
    "        if 'Fuel Type' in keys:\n",
    "            fuel_type.append(temp['Fuel Type'])\n",
    "        else:\n",
    "            fuel_type.append(np.NAN)\n",
    "            \n",
    "        if 'Transmission' in keys:\n",
    "            transmission.append(temp['Transmission'])\n",
    "        else:\n",
    "            transmission.append(np.NAN)\n",
    "            \n",
    "        if 'Year of Purchase' in keys:\n",
    "            year_purchase.append(temp['Year of Purchase'])\n",
    "        else:\n",
    "            year_purchase.append(np.NAN)\n",
    "            \n",
    "        if 'Insurance' in keys:\n",
    "            insurance.append(temp['Insurance'].split('\\n')[0])\n",
    "            insurance_type.append(temp['Insurance'].split('\\n')[1])\n",
    "        else:\n",
    "            insurance.append(np.NAN)\n",
    "             \n",
    "        \n",
    "    except:\n",
    "        \n",
    "        continue;\n",
    "        \n",
    "        \n",
    "    try:\n",
    "        product_price = driver.find_element_by_xpath('/html/body/div[1]/div[2]/div/div/div/div[1]/div[3]/strong')\n",
    "        price.append(product_price.text.split('₹')[1].replace(',',''))\n",
    "    except NoSuchElementException:\n",
    "        price.append(np.NAN)\n",
    "    \n",
    "  \n",
    "    "
   ]
  },
  {
   "cell_type": "code",
   "execution_count": 330,
   "metadata": {},
   "outputs": [],
   "source": [
    "dict = {\n",
    "    \n",
    "    \n",
    "    'car_name': cars,\n",
    "    'car_fueltype':fuel_type,\n",
    "    'car_type':transmission,\n",
    "    'car_kms_used':kms_driven,\n",
    "    \n",
    "    'car_owner':owner,\n",
    "    'purchase_year':year_purchase,\n",
    "    'car_last_service':history,\n",
    "    'car_insurance':insurance,\n",
    "    'car_price': price\n",
    "    }\n",
    "data = pd.DataFrame(dict)\n"
   ]
  },
  {
   "cell_type": "code",
   "execution_count": 331,
   "metadata": {},
   "outputs": [],
   "source": [
    "data.to_csv('used_cars.csv')"
   ]
  }
 ],
 "metadata": {
  "kernelspec": {
   "display_name": "Python 3",
   "language": "python",
   "name": "python3"
  },
  "language_info": {
   "codemirror_mode": {
    "name": "ipython",
    "version": 3
   },
   "file_extension": ".py",
   "mimetype": "text/x-python",
   "name": "python",
   "nbconvert_exporter": "python",
   "pygments_lexer": "ipython3",
   "version": "3.8.5"
  }
 },
 "nbformat": 4,
 "nbformat_minor": 4
}
